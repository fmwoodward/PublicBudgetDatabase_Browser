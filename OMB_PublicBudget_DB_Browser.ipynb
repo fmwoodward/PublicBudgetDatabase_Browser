{
 "cells": [
  {
   "cell_type": "code",
   "execution_count": 216,
   "metadata": {},
   "outputs": [
    {
     "data": {
      "text/html": [
       "<script>requirejs.config({paths: { 'plotly': ['https://cdn.plot.ly/plotly-latest.min']},});if(!window.Plotly) {{require(['plotly'],function(plotly) {window.Plotly=plotly;});}}</script>"
      ],
      "text/vnd.plotly.v1+html": [
       "<script>requirejs.config({paths: { 'plotly': ['https://cdn.plot.ly/plotly-latest.min']},});if(!window.Plotly) {{require(['plotly'],function(plotly) {window.Plotly=plotly;});}}</script>"
      ]
     },
     "metadata": {},
     "output_type": "display_data"
    },
    {
     "name": "stdout",
     "output_type": "stream",
     "text": [
      "initalize notebook...\n",
      "reading current deflators ...\n",
      "reading ../OCO/PB19-OCO.xlsx ...\n",
      "processing OCO data ...\n",
      "reading FYDP data from OMB Public Database OMB-PBDB_FY00-FY19.xlsx (this will take a minute) ...\n",
      "consolidating FYDP data (this will take a minute) ...\n",
      "... finished\n"
     ]
    }
   ],
   "source": [
    "import pandas as pd\n",
    "pd.options.display.max_rows=20\n",
    "\n",
    "import numpy as np\n",
    "import matplotlib.pyplot as plt\n",
    "import matplotlib.gridspec as gridspec\n",
    "from matplotlib import cm\n",
    "%matplotlib inline\n",
    "\n",
    "import string \n",
    "import warnings\n",
    "import time,datetime\n",
    "import random\n",
    "from __future__ import print_function\n",
    "\n",
    "import plotly\n",
    "import plotly.plotly as py\n",
    "import plotly.graph_objs as go\n",
    "import plotly.tools as tls\n",
    "plotly.offline.init_notebook_mode(connected=True)\n",
    "\n",
    "from IPython.display import display, HTML\n",
    "from ipywidgets import interactive\n",
    "from ipywidgets import interact, widgets, fixed\n",
    "from ipywidgets import interact_manual\n",
    "from pivottablejs import pivot_ui\n",
    "\n",
    "warnings.simplefilter(\"ignore\")\n",
    "\n",
    "#==========Flags=============\n",
    "\n",
    "verbose=True\n",
    "\n",
    "#============================\n",
    "\n",
    "\n",
    "if verbose: print('initalize notebook...')\n",
    "\n",
    "if verbose: print('reading current deflators ...')\n",
    "MADWiki   = pd.ExcelFile('OMB-Hist_Tab10-1.xlsx')\n",
    "gdpf = pd.read_excel(MADWiki)\n",
    "pgdp = gdpf[gdpf.columns[1]]                 #pgdp deflator\n",
    "\n",
    "xlsx   ='OCO.xlsx'                      #read OCO\n",
    "if verbose: print('reading '+xlsx+' ...')\n",
    "wb     = pd.ExcelFile(xlsx)\n",
    "sheets = wb.sheet_names\n",
    "oco= wb.parse('OCO_BA') \n",
    "if verbose:print('processing OCO data ...')\n",
    "oco=oco.head(9)\n",
    "oco.set_index(oco.columns[0],inplace=True)\n",
    "oco=oco.T\n",
    "oco.columns=oco.iloc[0].ravel()\n",
    "oco=oco.dropna(axis=1,how='all')\n",
    "oco.index.name='FY'\n",
    "oco.columns=['Military Personnel','O&M','Procurement','RDT&E',\n",
    "             'Military Construction','Family Housing','Revolving Funds & Other','Total']\n",
    "oco=oco.fillna(0,inplace=True)\n",
    "\n",
    "xlsx   ='OMB-PBDB_FY00-FY19.xlsx'\n",
    "if verbose: print('reading FYDP data from OMB Public Database '+xlsx+' (this will take a minute) ...')\n",
    "wb     = pd.ExcelFile(xlsx)\n",
    "sheets = wb.sheet_names\n",
    "clist=[]\n",
    "if verbose: print('consolidating FYDP data (this will take a minute) ...')\n",
    "for sheet in sheets[:-1]:\n",
    "    ws = pd.read_excel(wb, sheetname=sheet, skiprows=1)\n",
    "    s=int(sheet)\n",
    "    ws['PB'] = s\n",
    "    clist.append(ws)\n",
    "data=pd.concat(clist,axis=0,ignore_index=False)\n",
    "data.set_index(['PB'],inplace=True)\n",
    "\n",
    "#fix column names and drop junk\n",
    "data.drop([u'1976',u'TQ',u'1977',u'1978',u'1979'],axis=1,inplace=True)\n",
    "col=data.columns.tolist()\n",
    "entry=col[:11]\n",
    "fy = [int(i) for i in col[11:]]\n",
    "col=entry+fy\n",
    "data.columns=col\n",
    "\n",
    "#Identify unique entries for each category in the database\n",
    "Agency=np.unique(data['Agency Name'].tolist())\n",
    "Bureau=np.unique(data['Bureau Name'].tolist())\n",
    "Account=np.unique(data['Account Name'].tolist())\n",
    "Subfunction=np.unique(data['Subfunction Title'].tolist())\n",
    "PB=np.unique(data.index.tolist())\n",
    "data['nonBase']=np.nan\n",
    "data['Requested']=np.nan\n",
    "data['Enacted']=np.nan\n",
    "for b in PB:\n",
    "    data['Requested'].loc[b]=data[b].loc[b]\n",
    "    data['Enacted'].loc[b]=data[b-2].loc[b]\n",
    "\n",
    "data_nom=data.copy()\n",
    "data_real=data.copy()\n",
    "if verbose: print('... finished')"
   ]
  },
  {
   "cell_type": "code",
   "execution_count": 263,
   "metadata": {},
   "outputs": [],
   "source": [
    "MADWiki   = pd.ExcelFile('OMB-Hist_Tab10-1.xlsx')\n",
    "gdpf = pd.read_excel(MADWiki,skiprows=2)\n",
    "gdpf=gdpf[gdpf.columns[:3]]\n",
    "gdpf.columns=['FY','GDP','pgdp']\n",
    "gdpf.drop(gdpf.index[[0,1,87]],inplace=True)\n",
    "gdpf=gdpf.loc[gdpf.index>42]\n",
    "gdpf.FY=range(1980,2024,1)\n",
    "gdpf.set_index('FY',inplace=True)\n",
    "pgdp=gdpf[gdpf.columns[1]]\n",
    "display()"
   ]
  },
  {
   "cell_type": "code",
   "execution_count": 217,
   "metadata": {
    "scrolled": false
   },
   "outputs": [
    {
     "data": {
      "application/vnd.jupyter.widget-view+json": {
       "model_id": "d7aaaf3d5e0142989a66f3a739033ef8",
       "version_major": 2,
       "version_minor": 0
      },
      "text/plain": [
       "aW50ZXJhY3RpdmUoY2hpbGRyZW49KERyb3Bkb3duKGRlc2NyaXB0aW9uPXUnQ2F0ZWdvcnknLCBpbmRleD0yLCBvcHRpb25zPSgnQWdlbmN5IE5hbWUnLCAnQnVyZWF1IE5hbWUnLCAnQWNjb3XigKY=\n"
      ]
     },
     "metadata": {},
     "output_type": "display_data"
    },
    {
     "data": {
      "text/plain": [
       "<function __main__.WordSearch>"
      ]
     },
     "execution_count": 217,
     "metadata": {},
     "output_type": "execute_result"
    }
   ],
   "source": [
    "def plotit(funding,Agency,Bureau,Account,Subfunction,BEA,pb,pretty=True,wdat=False):\n",
    "    funds=funding[funding.columns[11:]]\n",
    "    funds=funds[funds.columns[:-3]]\n",
    "\n",
    "    funds=funds.groupby(funds.index).sum()\n",
    "    pf=funds.loc[pb]/1000/1000\n",
    "    pf=pf.replace(0,np.nan)\n",
    "    pf=pf.div(gdpf.pgdp.div(gdpf.pgdp.loc[pb]))\n",
    "    pf=pf.loc[pf.index>1979]\n",
    "    pf=pf.loc[pf.index<pb+4]\n",
    "\n",
    "    f, (ax0)= plt.subplots(1, 1, figsize=(14,9))\n",
    "    width=0.8\n",
    "    fs=16\n",
    "\n",
    "    pf.plot(ax=ax0,style='-', color='royalblue', linewidth=2)\n",
    "      \n",
    "    ax0.set_xlabel('Fiscal Year',fontsize=fs+2)\n",
    "    ax0.set_ylabel('Yearly Funding [real, $B]',fontsize=fs+3)\n",
    "    \n",
    "    \n",
    "    ax0.tick_params(direction='in',pad=15,labelsize=fs)\n",
    "\n",
    "    ax0.set_ylim([0, pf.max(skipna=True).max()*(1+0.05)])\n",
    "    \n",
    "    xmax=pf.index.max()\n",
    "    xmin=pf.index.min()\n",
    "\n",
    "    ax0.set_xlim(xmin,xmax)\n",
    "    ax0.xaxis.set_ticks(np.arange(xmin, xmax, 5))\n",
    "    ax0.xaxis.set_ticklabels(np.arange(xmin, xmax, 5))\n",
    "    \n",
    "       \n",
    "    if (pretty):\n",
    "        plt.show()\n",
    "    else:\n",
    "        plotly_fig = tls.mpl_to_plotly( f )\n",
    "        plotly.offline.iplot(plotly_fig)\n",
    "\n",
    "    if(wdat):\n",
    "        wb_out ='OMB_PB_Data-query.xlsx'\n",
    "        writer = pd.ExcelWriter(wb_out)\n",
    "        funding.to_excel(writer,'data')\n",
    "        pf.to_excel(writer,'plot')\n",
    "        writer.save()\n",
    "\n",
    "def WordSearch(funding,Category='Account Name',word=''):\n",
    "    funding=funding[df[Category].str.contains(word)==True]\n",
    "    pb=2019\n",
    "    print('Entries associated with the word/phrase:\\n',\n",
    "         word,'\\nin the Category:',Category,\n",
    "         'for PB',pb)\n",
    "    interact(plotit,funding=fixed(funding),\n",
    "             Agency=np.unique(funding['Agency Name'].tolist()),\n",
    "              Bureau=np.unique(funding['Bureau Name'].tolist()),\n",
    "              Account=np.unique(funding['Account Name'].tolist()),\n",
    "              Subfunction=np.unique(funding['Subfunction Title'].tolist()),\n",
    "              BEA=np.unique(funding['BEA Category'].tolist()),\n",
    "             pb=fixed(pb),\n",
    "             pretty=True,wdat=False)\n",
    "    \n",
    "funding=data.copy()\n",
    "Categories=['Agency Name',\n",
    " 'Bureau Name',\n",
    " 'Account Name',\n",
    " 'Subfunction Title']\n",
    "interact_manual(WordSearch,funding=fixed(funding),Category=Categories,word='')"
   ]
  },
  {
   "cell_type": "code",
   "execution_count": 218,
   "metadata": {},
   "outputs": [
    {
     "data": {
      "application/vnd.jupyter.widget-view+json": {
       "model_id": "76048813d8ef48d28a77adcf1ba55ad8",
       "version_major": 2,
       "version_minor": 0
      },
      "text/plain": [
       "aW50ZXJhY3RpdmUoY2hpbGRyZW49KERyb3Bkb3duKGRlc2NyaXB0aW9uPXUnQ2F0ZWdvcnknLCBpbmRleD04LCBvcHRpb25zPSgnQWdlbmN5IENvZGUnLCAnQWdlbmN5IE5hbWUnLCAnQnVyZWHigKY=\n"
      ]
     },
     "metadata": {},
     "output_type": "display_data"
    },
    {
     "data": {
      "text/plain": [
       "<function __main__.functA>"
      ]
     },
     "execution_count": 218,
     "metadata": {},
     "output_type": "execute_result"
    }
   ],
   "source": [
    "def datafoo(funding,pb,tag='Account Name',query='',write_data=False):\n",
    "    \n",
    "    funding[tag]=funding[tag].str.lower()    \n",
    "    funding=funding[funding[tag].str.contains(query,na=False)]\n",
    "    print('PB:  ',pb,\n",
    "              '\\nAgency Name:  ',np.unique(funding['Agency Name'].tolist()),\n",
    "              '\\nBureau Name:  ',np.unique(funding['Bureau Name'].tolist()),\n",
    "              '\\nAccount Name:  ',np.unique(funding['Account Name'].tolist()),\n",
    "              '\\nSubfunction Title:  ',np.unique(funding['Subfunction Title'].tolist()),\n",
    "              '\\nFunding Category:  ',np.unique(funding['BEA Category'].tolist()))   \n",
    "    funding=funding.groupby(funding.index).sum()\n",
    "    funding['fydp']=funding[funding.index.tolist()].loc[pb]\n",
    "    display(funding)\n",
    "\n",
    "    if(write_data):\n",
    "        wb_out ='OMB_PB_Data-query.xlsx'\n",
    "        writer = pd.ExcelWriter(wb_out)\n",
    "        funding.to_excel(writer,'data')\n",
    "        writer.save()\n",
    "    \n",
    "def functD(funding,tag,choices,query=''):\n",
    "    interact(datafoo,funding=fixed(funding),\n",
    "             pb=widgets.IntSlider(min=2000, max=2019, step=1, value=2012, description='PB'),\n",
    "             tag=fixed(tag),query=fixed(query),pretty=True,wdat=False)\n",
    "\n",
    "def functC(funding,tag='Account Name'):  \n",
    "    funding[tag]=funding[tag].astype(str).str.lower()    \n",
    "    queries=funding[tag].unique()\n",
    "    queries.sort()\n",
    "    interact_manual(functD,funding=fixed(funding),tag=fixed(tag),choices=queries,query='')\n",
    "\n",
    "def functB(Category,Entry='Department of Defense-Military'):\n",
    "    \n",
    "    qdata=data.loc[data[Category]==Entry]\n",
    "    tags=qdata.columns[:11]\n",
    "    print('Pick category to query for',Category, ':\\n',Entry)\n",
    "    interact(functC,funding=fixed(qdata),tag=tags)\n",
    "    \n",
    "def functA(Category='Subfunction Title'):\n",
    "    Entries=data[Category].unique()\n",
    "    Entries.sort()\n",
    "    interact(functB,Category=fixed(Category),Entry=Entries)\n",
    "    \n",
    "    \n",
    "Categories=data.columns[:11].astype(str).tolist()\n",
    "interact(functA,Category=Categories)"
   ]
  },
  {
   "cell_type": "code",
   "execution_count": 219,
   "metadata": {},
   "outputs": [
    {
     "data": {
      "application/vnd.jupyter.widget-view+json": {
       "model_id": "83abf382f65647248186bfe244e6433c",
       "version_major": 2,
       "version_minor": 0
      },
      "text/plain": [
       "aW50ZXJhY3RpdmUoY2hpbGRyZW49KERyb3Bkb3duKGRlc2NyaXB0aW9uPXUnQ2F0ZWdvcnknLCBpbmRleD04LCBvcHRpb25zPSgnQWdlbmN5IENvZGUnLCAnQWdlbmN5IE5hbWUnLCAnQnVyZWHigKY=\n"
      ]
     },
     "metadata": {},
     "output_type": "display_data"
    },
    {
     "data": {
      "text/plain": [
       "<function __main__.functA>"
      ]
     },
     "execution_count": 219,
     "metadata": {},
     "output_type": "execute_result"
    }
   ],
   "source": [
    "def dataplot(funding,pb=2012,tag='Account Name',query='',pretty=True,wdat=False):  \n",
    "    \n",
    "    funding[tag]=funding[tag].str.lower()    \n",
    "    funding=funding[funding[tag].str.contains(query,na=False)]\n",
    "    print('PB:  ',pb,\n",
    "              '\\nAgency Name:  ',np.unique(funding['Agency Name'].tolist()),\n",
    "              '\\nBureau Name:  ',np.unique(funding['Bureau Name'].tolist()),\n",
    "              '\\nAccount Name:  ',np.unique(funding['Account Name'].tolist()),\n",
    "              '\\nSubfunction Title:  ',np.unique(funding['Subfunction Title'].tolist()),\n",
    "              '\\nFunding Category:  ',np.unique(funding['BEA Category'].tolist()))   \n",
    "    funding=funding.groupby(funding.index).sum()\n",
    "    funding['fydp']=funding[funding.index.tolist()].loc[pb]\n",
    "        \n",
    "    pf=funding[['fydp','Requested','Enacted']]/1000.0/1000.0\n",
    "    foo = pf.copy()\n",
    "    foo.reset_index(inplace=True)\n",
    "    foo.PB=foo.PB-2\n",
    "    foo.set_index(foo.PB, inplace=True)\n",
    "    pf.Enacted=foo.Enacted\n",
    "    pf=pf.replace(0,np.nan)\n",
    "    pf['pgdp']=pgdp\n",
    "    pf=pf[['fydp','Requested','Enacted']].div(pf.pgdp,axis=0)\n",
    "\n",
    "    f, (ax0)= plt.subplots(1, 1, figsize=(14,9))\n",
    "    width=0.8\n",
    "    fs=16\n",
    "\n",
    "    pf.plot(ax=ax0,style='-', color='royalblue', linewidth=2,\n",
    "        y=['Enacted'])\n",
    "    \n",
    "    pf.plot(ax=ax0,style=':', color='darkolivegreen', linewidth=2,\n",
    "        y=['Requested'])\n",
    "    \n",
    "    pf.plot(ax=ax0,style='--', color='firebrick', linewidth=1,\n",
    "        y=['fydp'])\n",
    "    \n",
    "    ax0.set_xlabel('Fiscal Year',fontsize=fs+2)\n",
    "    ax0.set_ylabel('Yearly Funding [real, $B]',fontsize=fs+3)\n",
    "    \n",
    "    \n",
    "    ax0.tick_params(direction='in',pad=15,labelsize=fs)\n",
    "\n",
    "    ax0.set_ylim([0, pf.max(skipna=True).max()*(1+0.05)])\n",
    "    \n",
    "    xmax=pf.index.max()\n",
    "    xmin=pf.index.min()\n",
    "\n",
    "    ax0.set_xlim(xmin,xmax)\n",
    "    ax0.xaxis.set_ticks(np.arange(xmin, xmax, 2))\n",
    "    ax0.xaxis.set_ticklabels(np.arange(xmin, xmax, 2))\n",
    "    \n",
    "   #ax0.set_title('Data from '+tag+' '+query, fontsize=fs+4,position=(0.8, 0.07))\n",
    "    l=ax0.legend(loc='best',frameon=False)\n",
    "    l.get_texts()[0].set_text('Enacted')\n",
    "    l.get_texts()[1].set_text('Requested')\n",
    "    l.get_texts()[2].set_text('FYDP Requested')\n",
    "        \n",
    "    if (pretty):\n",
    "        plt.show()\n",
    "    else:\n",
    "        plotly_fig = tls.mpl_to_plotly( f )\n",
    "        plotly.offline.iplot(plotly_fig)\n",
    "\n",
    "    if(wdat):\n",
    "        wb_out ='OMB_PB_Data-query.xlsx'\n",
    "        writer = pd.ExcelWriter(wb_out)\n",
    "        funding.to_excel(writer,'data')\n",
    "        pf.to_excel(writer,'plot')\n",
    "        writer.save()\n",
    "\n",
    "\n",
    "def functD(funding,tag,choices,query=''):\n",
    "    interact(dataplot,funding=fixed(funding),\n",
    "             pb=widgets.IntSlider(min=2000, max=2019, step=1, value=2012, description='PB'),\n",
    "             tag=fixed(tag),query=fixed(query),pretty=True,wdat=False)\n",
    "\n",
    "def functC(funding,tag='Account Name'):  \n",
    "    funding[tag]=funding[tag].astype(str).str.lower()    \n",
    "    queries=funding[tag].unique()\n",
    "    queries.sort()\n",
    "    interact_manual(functD,funding=fixed(funding),tag=fixed(tag),choices=queries,query='')\n",
    "\n",
    "def functB(Category,Entry='Department of Defense-Military'):\n",
    "    \n",
    "    qdata=data.loc[data[Category]==Entry]\n",
    "    tags=qdata.columns[:11]\n",
    "    print('Pick category to query for',Category, ':\\n',Entry)\n",
    "    interact(functC,funding=fixed(qdata),tag=tags)\n",
    "    \n",
    "def functA(Category='Subfunction Title'):\n",
    "    Entries=data[Category].unique()\n",
    "    Entries.sort()\n",
    "    interact(functB,Category=fixed(Category),Entry=Entries)\n",
    "    \n",
    "    \n",
    "Categories=data.columns[:11].astype(str).tolist()\n",
    "interact(functA,Category=Categories)"
   ]
  },
  {
   "cell_type": "code",
   "execution_count": 220,
   "metadata": {},
   "outputs": [
    {
     "data": {
      "text/html": [
       "<script>\n",
       "code_show=false; \n",
       "function code_toggle() {\n",
       " if (code_show){\n",
       " $('div.input').hide();\n",
       " } else {\n",
       " $('div.input').show();\n",
       " }\n",
       " code_show = !code_show\n",
       "} \n",
       "$( document ).ready(code_toggle);\n",
       "</script>\n",
       "The raw code for this IPython notebook is by default hidden for easier reading.\n",
       "To toggle on/off the raw code, click <a href=\"javascript:code_toggle()\">here</a>."
      ],
      "text/plain": [
       "<IPython.core.display.HTML object>"
      ]
     },
     "execution_count": 220,
     "metadata": {},
     "output_type": "execute_result"
    }
   ],
   "source": [
    "from IPython.display import display, HTML\n",
    "HTML('''<script>\n",
    "code_show=false; \n",
    "function code_toggle() {\n",
    " if (code_show){\n",
    " $('div.input').hide();\n",
    " } else {\n",
    " $('div.input').show();\n",
    " }\n",
    " code_show = !code_show\n",
    "} \n",
    "$( document ).ready(code_toggle);\n",
    "</script>\n",
    "The raw code for this IPython notebook is by default hidden for easier reading.\n",
    "To toggle on/off the raw code, click <a href=\"javascript:code_toggle()\">here</a>.''')"
   ]
  }
 ],
 "metadata": {
  "kernelspec": {
   "display_name": "Python 2",
   "language": "python",
   "name": "python2"
  },
  "language_info": {
   "codemirror_mode": {
    "name": "ipython",
    "version": 2
   },
   "file_extension": ".py",
   "mimetype": "text/x-python",
   "name": "python",
   "nbconvert_exporter": "python",
   "pygments_lexer": "ipython2",
   "version": "2.7.15"
  }
 },
 "nbformat": 4,
 "nbformat_minor": 1
}
